{
 "cells": [
  {
   "cell_type": "code",
   "execution_count": 2,
   "id": "313703ed",
   "metadata": {},
   "outputs": [
    {
     "name": "stderr",
     "output_type": "stream",
     "text": [
      "C:\\Users\\Yan Peng\\anaconda3\\Lib\\site-packages\\pandas\\core\\arrays\\masked.py:60: UserWarning: Pandas requires version '1.3.6' or newer of 'bottleneck' (version '1.3.5' currently installed).\n",
      "  from pandas.core import (\n"
     ]
    }
   ],
   "source": [
    "# Import libraries\n",
    "import pandas as pd\n",
    "import numpy as np\n",
    "import os"
   ]
  },
  {
   "cell_type": "markdown",
   "id": "d17c12d8",
   "metadata": {},
   "source": [
    "# 1. Import data"
   ]
  },
  {
   "cell_type": "code",
   "execution_count": 3,
   "id": "bf28e81c",
   "metadata": {},
   "outputs": [],
   "source": [
    "path = r'C:\\Users\\Yan Peng\\LA Crimes'"
   ]
  },
  {
   "cell_type": "code",
   "execution_count": 4,
   "id": "3bba3b5e",
   "metadata": {},
   "outputs": [],
   "source": [
    "df = pd.read_csv(os.path.join(path, '02 Data', 'Original Data', 'Crime_Data_from_2020_to_Present.csv'),  index_col = False)"
   ]
  },
  {
   "cell_type": "markdown",
   "id": "5e3c185b",
   "metadata": {},
   "source": [
    "# 2. Data consistency checks"
   ]
  },
  {
   "cell_type": "code",
   "execution_count": 5,
   "id": "c7206217",
   "metadata": {},
   "outputs": [
    {
     "name": "stdout",
     "output_type": "stream",
     "text": [
      "<class 'pandas.core.frame.DataFrame'>\n",
      "RangeIndex: 883987 entries, 0 to 883986\n",
      "Data columns (total 28 columns):\n",
      " #   Column          Non-Null Count   Dtype  \n",
      "---  ------          --------------   -----  \n",
      " 0   DR_NO           883987 non-null  int64  \n",
      " 1   Date Rptd       883987 non-null  object \n",
      " 2   DATE OCC        883987 non-null  object \n",
      " 3   TIME OCC        883987 non-null  int64  \n",
      " 4   AREA            883987 non-null  int64  \n",
      " 5   AREA NAME       883987 non-null  object \n",
      " 6   Rpt Dist No     883987 non-null  int64  \n",
      " 7   Part 1-2        883987 non-null  int64  \n",
      " 8   Crm Cd          883987 non-null  int64  \n",
      " 9   Crm Cd Desc     883987 non-null  object \n",
      " 10  Mocodes         760974 non-null  object \n",
      " 11  Vict Age        883987 non-null  int64  \n",
      " 12  Vict Sex        766927 non-null  object \n",
      " 13  Vict Descent    766919 non-null  object \n",
      " 14  Premis Cd       883977 non-null  float64\n",
      " 15  Premis Desc     883447 non-null  object \n",
      " 16  Weapon Used Cd  306604 non-null  float64\n",
      " 17  Weapon Desc     306604 non-null  object \n",
      " 18  Status          883987 non-null  object \n",
      " 19  Status Desc     883987 non-null  object \n",
      " 20  Crm Cd 1        883976 non-null  float64\n",
      " 21  Crm Cd 2        64497 non-null   float64\n",
      " 22  Crm Cd 3        2176 non-null    float64\n",
      " 23  Crm Cd 4        62 non-null      float64\n",
      " 24  LOCATION        883987 non-null  object \n",
      " 25  Cross Street    139779 non-null  object \n",
      " 26  LAT             883987 non-null  float64\n",
      " 27  LON             883987 non-null  float64\n",
      "dtypes: float64(8), int64(7), object(13)\n",
      "memory usage: 188.8+ MB\n"
     ]
    }
   ],
   "source": [
    "df.info()"
   ]
  },
  {
   "cell_type": "code",
   "execution_count": 6,
   "id": "ca860155",
   "metadata": {},
   "outputs": [],
   "source": [
    "# Change column names to comprehensible ones\n",
    "\n",
    "new_column_names = {'DR_NO': 'case_number', 'Date Rptd': 'date_reported', 'DATE OCC': 'date_occurred', 'TIME OCC': 'time_occurred',\n",
    "                    'AREA': 'area', 'AREA NAME': 'area_name', 'Rpt Dist No': 'reporting_distict', 'Part 1-2': 'part_1_2_crimes', 'Crm Cd': 'crime_code', 'Crm Cd Desc': 'crime_code_description',\n",
    "                    'Vict Age': 'victim_age', 'Vict Sex': 'victim_sex', 'Vict Descent': 'victim_descent', 'Premis Cd': 'premise_code', 'Premis Desc': 'premise_description',\n",
    "                    'Weapon Used Cd': 'weapon_used_code', 'Weapon Desc': 'weapon_description', 'LOCATION': 'location'}\n",
    "df.rename(columns=new_column_names, inplace=True)"
   ]
  },
  {
   "cell_type": "code",
   "execution_count": 7,
   "id": "50f353c2",
   "metadata": {},
   "outputs": [
    {
     "name": "stderr",
     "output_type": "stream",
     "text": [
      "C:\\Users\\Yan Peng\\AppData\\Local\\Temp\\ipykernel_2224\\1890984043.py:4: FutureWarning: DataFrame.applymap has been deprecated. Use DataFrame.map instead.\n",
      "  weird = (df[[col]].applymap(type) != df[[col]].iloc[0].apply(type)).any(axis = 1)\n",
      "C:\\Users\\Yan Peng\\AppData\\Local\\Temp\\ipykernel_2224\\1890984043.py:4: FutureWarning: DataFrame.applymap has been deprecated. Use DataFrame.map instead.\n",
      "  weird = (df[[col]].applymap(type) != df[[col]].iloc[0].apply(type)).any(axis = 1)\n",
      "C:\\Users\\Yan Peng\\AppData\\Local\\Temp\\ipykernel_2224\\1890984043.py:4: FutureWarning: DataFrame.applymap has been deprecated. Use DataFrame.map instead.\n",
      "  weird = (df[[col]].applymap(type) != df[[col]].iloc[0].apply(type)).any(axis = 1)\n",
      "C:\\Users\\Yan Peng\\AppData\\Local\\Temp\\ipykernel_2224\\1890984043.py:4: FutureWarning: DataFrame.applymap has been deprecated. Use DataFrame.map instead.\n",
      "  weird = (df[[col]].applymap(type) != df[[col]].iloc[0].apply(type)).any(axis = 1)\n",
      "C:\\Users\\Yan Peng\\AppData\\Local\\Temp\\ipykernel_2224\\1890984043.py:4: FutureWarning: DataFrame.applymap has been deprecated. Use DataFrame.map instead.\n",
      "  weird = (df[[col]].applymap(type) != df[[col]].iloc[0].apply(type)).any(axis = 1)\n",
      "C:\\Users\\Yan Peng\\AppData\\Local\\Temp\\ipykernel_2224\\1890984043.py:4: FutureWarning: DataFrame.applymap has been deprecated. Use DataFrame.map instead.\n",
      "  weird = (df[[col]].applymap(type) != df[[col]].iloc[0].apply(type)).any(axis = 1)\n",
      "C:\\Users\\Yan Peng\\AppData\\Local\\Temp\\ipykernel_2224\\1890984043.py:4: FutureWarning: DataFrame.applymap has been deprecated. Use DataFrame.map instead.\n",
      "  weird = (df[[col]].applymap(type) != df[[col]].iloc[0].apply(type)).any(axis = 1)\n",
      "C:\\Users\\Yan Peng\\AppData\\Local\\Temp\\ipykernel_2224\\1890984043.py:4: FutureWarning: DataFrame.applymap has been deprecated. Use DataFrame.map instead.\n",
      "  weird = (df[[col]].applymap(type) != df[[col]].iloc[0].apply(type)).any(axis = 1)\n",
      "C:\\Users\\Yan Peng\\AppData\\Local\\Temp\\ipykernel_2224\\1890984043.py:4: FutureWarning: DataFrame.applymap has been deprecated. Use DataFrame.map instead.\n",
      "  weird = (df[[col]].applymap(type) != df[[col]].iloc[0].apply(type)).any(axis = 1)\n",
      "C:\\Users\\Yan Peng\\AppData\\Local\\Temp\\ipykernel_2224\\1890984043.py:4: FutureWarning: DataFrame.applymap has been deprecated. Use DataFrame.map instead.\n",
      "  weird = (df[[col]].applymap(type) != df[[col]].iloc[0].apply(type)).any(axis = 1)\n",
      "C:\\Users\\Yan Peng\\AppData\\Local\\Temp\\ipykernel_2224\\1890984043.py:4: FutureWarning: DataFrame.applymap has been deprecated. Use DataFrame.map instead.\n",
      "  weird = (df[[col]].applymap(type) != df[[col]].iloc[0].apply(type)).any(axis = 1)\n"
     ]
    },
    {
     "name": "stdout",
     "output_type": "stream",
     "text": [
      "Mocodes\n"
     ]
    },
    {
     "name": "stderr",
     "output_type": "stream",
     "text": [
      "C:\\Users\\Yan Peng\\AppData\\Local\\Temp\\ipykernel_2224\\1890984043.py:4: FutureWarning: DataFrame.applymap has been deprecated. Use DataFrame.map instead.\n",
      "  weird = (df[[col]].applymap(type) != df[[col]].iloc[0].apply(type)).any(axis = 1)\n",
      "C:\\Users\\Yan Peng\\AppData\\Local\\Temp\\ipykernel_2224\\1890984043.py:4: FutureWarning: DataFrame.applymap has been deprecated. Use DataFrame.map instead.\n",
      "  weird = (df[[col]].applymap(type) != df[[col]].iloc[0].apply(type)).any(axis = 1)\n"
     ]
    },
    {
     "name": "stdout",
     "output_type": "stream",
     "text": [
      "victim_sex\n",
      "victim_descent\n"
     ]
    },
    {
     "name": "stderr",
     "output_type": "stream",
     "text": [
      "C:\\Users\\Yan Peng\\AppData\\Local\\Temp\\ipykernel_2224\\1890984043.py:4: FutureWarning: DataFrame.applymap has been deprecated. Use DataFrame.map instead.\n",
      "  weird = (df[[col]].applymap(type) != df[[col]].iloc[0].apply(type)).any(axis = 1)\n",
      "C:\\Users\\Yan Peng\\AppData\\Local\\Temp\\ipykernel_2224\\1890984043.py:4: FutureWarning: DataFrame.applymap has been deprecated. Use DataFrame.map instead.\n",
      "  weird = (df[[col]].applymap(type) != df[[col]].iloc[0].apply(type)).any(axis = 1)\n",
      "C:\\Users\\Yan Peng\\AppData\\Local\\Temp\\ipykernel_2224\\1890984043.py:4: FutureWarning: DataFrame.applymap has been deprecated. Use DataFrame.map instead.\n",
      "  weird = (df[[col]].applymap(type) != df[[col]].iloc[0].apply(type)).any(axis = 1)\n",
      "C:\\Users\\Yan Peng\\AppData\\Local\\Temp\\ipykernel_2224\\1890984043.py:4: FutureWarning: DataFrame.applymap has been deprecated. Use DataFrame.map instead.\n",
      "  weird = (df[[col]].applymap(type) != df[[col]].iloc[0].apply(type)).any(axis = 1)\n"
     ]
    },
    {
     "name": "stdout",
     "output_type": "stream",
     "text": [
      "premise_description\n"
     ]
    },
    {
     "name": "stderr",
     "output_type": "stream",
     "text": [
      "C:\\Users\\Yan Peng\\AppData\\Local\\Temp\\ipykernel_2224\\1890984043.py:4: FutureWarning: DataFrame.applymap has been deprecated. Use DataFrame.map instead.\n",
      "  weird = (df[[col]].applymap(type) != df[[col]].iloc[0].apply(type)).any(axis = 1)\n",
      "C:\\Users\\Yan Peng\\AppData\\Local\\Temp\\ipykernel_2224\\1890984043.py:4: FutureWarning: DataFrame.applymap has been deprecated. Use DataFrame.map instead.\n",
      "  weird = (df[[col]].applymap(type) != df[[col]].iloc[0].apply(type)).any(axis = 1)\n"
     ]
    },
    {
     "name": "stdout",
     "output_type": "stream",
     "text": [
      "weapon_description\n"
     ]
    },
    {
     "name": "stderr",
     "output_type": "stream",
     "text": [
      "C:\\Users\\Yan Peng\\AppData\\Local\\Temp\\ipykernel_2224\\1890984043.py:4: FutureWarning: DataFrame.applymap has been deprecated. Use DataFrame.map instead.\n",
      "  weird = (df[[col]].applymap(type) != df[[col]].iloc[0].apply(type)).any(axis = 1)\n",
      "C:\\Users\\Yan Peng\\AppData\\Local\\Temp\\ipykernel_2224\\1890984043.py:4: FutureWarning: DataFrame.applymap has been deprecated. Use DataFrame.map instead.\n",
      "  weird = (df[[col]].applymap(type) != df[[col]].iloc[0].apply(type)).any(axis = 1)\n",
      "C:\\Users\\Yan Peng\\AppData\\Local\\Temp\\ipykernel_2224\\1890984043.py:4: FutureWarning: DataFrame.applymap has been deprecated. Use DataFrame.map instead.\n",
      "  weird = (df[[col]].applymap(type) != df[[col]].iloc[0].apply(type)).any(axis = 1)\n",
      "C:\\Users\\Yan Peng\\AppData\\Local\\Temp\\ipykernel_2224\\1890984043.py:4: FutureWarning: DataFrame.applymap has been deprecated. Use DataFrame.map instead.\n",
      "  weird = (df[[col]].applymap(type) != df[[col]].iloc[0].apply(type)).any(axis = 1)\n",
      "C:\\Users\\Yan Peng\\AppData\\Local\\Temp\\ipykernel_2224\\1890984043.py:4: FutureWarning: DataFrame.applymap has been deprecated. Use DataFrame.map instead.\n",
      "  weird = (df[[col]].applymap(type) != df[[col]].iloc[0].apply(type)).any(axis = 1)\n",
      "C:\\Users\\Yan Peng\\AppData\\Local\\Temp\\ipykernel_2224\\1890984043.py:4: FutureWarning: DataFrame.applymap has been deprecated. Use DataFrame.map instead.\n",
      "  weird = (df[[col]].applymap(type) != df[[col]].iloc[0].apply(type)).any(axis = 1)\n",
      "C:\\Users\\Yan Peng\\AppData\\Local\\Temp\\ipykernel_2224\\1890984043.py:4: FutureWarning: DataFrame.applymap has been deprecated. Use DataFrame.map instead.\n",
      "  weird = (df[[col]].applymap(type) != df[[col]].iloc[0].apply(type)).any(axis = 1)\n",
      "C:\\Users\\Yan Peng\\AppData\\Local\\Temp\\ipykernel_2224\\1890984043.py:4: FutureWarning: DataFrame.applymap has been deprecated. Use DataFrame.map instead.\n",
      "  weird = (df[[col]].applymap(type) != df[[col]].iloc[0].apply(type)).any(axis = 1)\n"
     ]
    },
    {
     "name": "stdout",
     "output_type": "stream",
     "text": [
      "Cross Street\n"
     ]
    },
    {
     "name": "stderr",
     "output_type": "stream",
     "text": [
      "C:\\Users\\Yan Peng\\AppData\\Local\\Temp\\ipykernel_2224\\1890984043.py:4: FutureWarning: DataFrame.applymap has been deprecated. Use DataFrame.map instead.\n",
      "  weird = (df[[col]].applymap(type) != df[[col]].iloc[0].apply(type)).any(axis = 1)\n"
     ]
    }
   ],
   "source": [
    "# Checking for mixed-type data\n",
    "\n",
    "for col in df.columns.tolist():\n",
    "  weird = (df[[col]].applymap(type) != df[[col]].iloc[0].apply(type)).any(axis = 1)\n",
    "  if len (df[weird]) > 0:\n",
    "    print (col)"
   ]
  },
  {
   "cell_type": "code",
   "execution_count": 8,
   "id": "21e2c837",
   "metadata": {},
   "outputs": [
    {
     "data": {
      "text/plain": [
       "victim_sex\n",
       "M    363260\n",
       "F    323891\n",
       "X     79680\n",
       "H        95\n",
       "-         1\n",
       "Name: count, dtype: int64"
      ]
     },
     "execution_count": 8,
     "metadata": {},
     "output_type": "execute_result"
    }
   ],
   "source": [
    "# Check sex column\n",
    "\n",
    "df['victim_sex'].value_counts()"
   ]
  },
  {
   "cell_type": "markdown",
   "id": "05131820",
   "metadata": {},
   "source": [
    "#### M and F stand for male and female, respectively. The other values will be considered unknown."
   ]
  },
  {
   "cell_type": "code",
   "execution_count": 9,
   "id": "e764ba21",
   "metadata": {},
   "outputs": [
    {
     "data": {
      "text/plain": [
       "victim_descent\n",
       "H    269743\n",
       "W    179133\n",
       "B    124820\n",
       "X     87776\n",
       "O     69907\n",
       "A     19377\n",
       "K      4788\n",
       "F      3765\n",
       "C      3494\n",
       "J      1238\n",
       "V       935\n",
       "I       840\n",
       "Z       447\n",
       "P       237\n",
       "U       176\n",
       "D        72\n",
       "G        64\n",
       "L        57\n",
       "S        48\n",
       "-         2\n",
       "Name: count, dtype: int64"
      ]
     },
     "execution_count": 9,
     "metadata": {},
     "output_type": "execute_result"
    }
   ],
   "source": [
    "# Check descent column\n",
    "\n",
    "df['victim_descent'].value_counts()"
   ]
  },
  {
   "cell_type": "markdown",
   "id": "aee7f314",
   "metadata": {},
   "source": [
    "#### H: Hispanic, W: White, B: Black, X: Unknown, O: Other, A: Asian"
   ]
  },
  {
   "cell_type": "code",
   "execution_count": 10,
   "id": "b47e9b6c",
   "metadata": {},
   "outputs": [
    {
     "data": {
      "text/html": [
       "<div>\n",
       "<style scoped>\n",
       "    .dataframe tbody tr th:only-of-type {\n",
       "        vertical-align: middle;\n",
       "    }\n",
       "\n",
       "    .dataframe tbody tr th {\n",
       "        vertical-align: top;\n",
       "    }\n",
       "\n",
       "    .dataframe thead th {\n",
       "        text-align: right;\n",
       "    }\n",
       "</style>\n",
       "<table border=\"1\" class=\"dataframe\">\n",
       "  <thead>\n",
       "    <tr style=\"text-align: right;\">\n",
       "      <th></th>\n",
       "      <th>case_number</th>\n",
       "      <th>time_occurred</th>\n",
       "      <th>area</th>\n",
       "      <th>reporting_distict</th>\n",
       "      <th>part_1_2_crimes</th>\n",
       "      <th>crime_code</th>\n",
       "      <th>victim_age</th>\n",
       "      <th>premise_code</th>\n",
       "      <th>weapon_used_code</th>\n",
       "      <th>Crm Cd 1</th>\n",
       "      <th>Crm Cd 2</th>\n",
       "      <th>Crm Cd 3</th>\n",
       "      <th>Crm Cd 4</th>\n",
       "      <th>LAT</th>\n",
       "      <th>LON</th>\n",
       "    </tr>\n",
       "  </thead>\n",
       "  <tbody>\n",
       "    <tr>\n",
       "      <th>count</th>\n",
       "      <td>8.839870e+05</td>\n",
       "      <td>883987.000000</td>\n",
       "      <td>883987.000000</td>\n",
       "      <td>883987.000000</td>\n",
       "      <td>883987.000000</td>\n",
       "      <td>883987.000000</td>\n",
       "      <td>883987.000000</td>\n",
       "      <td>883977.000000</td>\n",
       "      <td>306604.000000</td>\n",
       "      <td>883976.000000</td>\n",
       "      <td>64497.000000</td>\n",
       "      <td>2176.000000</td>\n",
       "      <td>62.000000</td>\n",
       "      <td>883987.000000</td>\n",
       "      <td>883987.000000</td>\n",
       "    </tr>\n",
       "    <tr>\n",
       "      <th>mean</th>\n",
       "      <td>2.173618e+08</td>\n",
       "      <td>1336.560971</td>\n",
       "      <td>10.703108</td>\n",
       "      <td>1116.747620</td>\n",
       "      <td>1.411516</td>\n",
       "      <td>500.758133</td>\n",
       "      <td>29.660630</td>\n",
       "      <td>306.299510</td>\n",
       "      <td>363.322520</td>\n",
       "      <td>500.499365</td>\n",
       "      <td>957.820379</td>\n",
       "      <td>983.770221</td>\n",
       "      <td>990.983871</td>\n",
       "      <td>33.986470</td>\n",
       "      <td>-118.051153</td>\n",
       "    </tr>\n",
       "    <tr>\n",
       "      <th>std</th>\n",
       "      <td>1.139578e+07</td>\n",
       "      <td>653.232813</td>\n",
       "      <td>6.100755</td>\n",
       "      <td>610.076564</td>\n",
       "      <td>0.492109</td>\n",
       "      <td>207.629796</td>\n",
       "      <td>21.825831</td>\n",
       "      <td>217.174128</td>\n",
       "      <td>123.705678</td>\n",
       "      <td>207.419239</td>\n",
       "      <td>110.885829</td>\n",
       "      <td>52.538656</td>\n",
       "      <td>27.477259</td>\n",
       "      <td>1.725364</td>\n",
       "      <td>5.981531</td>\n",
       "    </tr>\n",
       "    <tr>\n",
       "      <th>min</th>\n",
       "      <td>8.170000e+02</td>\n",
       "      <td>1.000000</td>\n",
       "      <td>1.000000</td>\n",
       "      <td>101.000000</td>\n",
       "      <td>1.000000</td>\n",
       "      <td>110.000000</td>\n",
       "      <td>-3.000000</td>\n",
       "      <td>101.000000</td>\n",
       "      <td>101.000000</td>\n",
       "      <td>110.000000</td>\n",
       "      <td>210.000000</td>\n",
       "      <td>310.000000</td>\n",
       "      <td>821.000000</td>\n",
       "      <td>0.000000</td>\n",
       "      <td>-118.667600</td>\n",
       "    </tr>\n",
       "    <tr>\n",
       "      <th>25%</th>\n",
       "      <td>2.103145e+08</td>\n",
       "      <td>900.000000</td>\n",
       "      <td>6.000000</td>\n",
       "      <td>615.000000</td>\n",
       "      <td>1.000000</td>\n",
       "      <td>331.000000</td>\n",
       "      <td>0.000000</td>\n",
       "      <td>101.000000</td>\n",
       "      <td>310.000000</td>\n",
       "      <td>331.000000</td>\n",
       "      <td>998.000000</td>\n",
       "      <td>998.000000</td>\n",
       "      <td>998.000000</td>\n",
       "      <td>34.014300</td>\n",
       "      <td>-118.429700</td>\n",
       "    </tr>\n",
       "    <tr>\n",
       "      <th>50%</th>\n",
       "      <td>2.203222e+08</td>\n",
       "      <td>1415.000000</td>\n",
       "      <td>11.000000</td>\n",
       "      <td>1141.000000</td>\n",
       "      <td>1.000000</td>\n",
       "      <td>442.000000</td>\n",
       "      <td>31.000000</td>\n",
       "      <td>203.000000</td>\n",
       "      <td>400.000000</td>\n",
       "      <td>442.000000</td>\n",
       "      <td>998.000000</td>\n",
       "      <td>998.000000</td>\n",
       "      <td>998.000000</td>\n",
       "      <td>34.058500</td>\n",
       "      <td>-118.321500</td>\n",
       "    </tr>\n",
       "    <tr>\n",
       "      <th>75%</th>\n",
       "      <td>2.302216e+08</td>\n",
       "      <td>1900.000000</td>\n",
       "      <td>16.000000</td>\n",
       "      <td>1615.000000</td>\n",
       "      <td>2.000000</td>\n",
       "      <td>626.000000</td>\n",
       "      <td>45.000000</td>\n",
       "      <td>501.000000</td>\n",
       "      <td>400.000000</td>\n",
       "      <td>626.000000</td>\n",
       "      <td>998.000000</td>\n",
       "      <td>998.000000</td>\n",
       "      <td>998.000000</td>\n",
       "      <td>34.163500</td>\n",
       "      <td>-118.273900</td>\n",
       "    </tr>\n",
       "    <tr>\n",
       "      <th>max</th>\n",
       "      <td>2.499046e+08</td>\n",
       "      <td>2359.000000</td>\n",
       "      <td>21.000000</td>\n",
       "      <td>2199.000000</td>\n",
       "      <td>2.000000</td>\n",
       "      <td>956.000000</td>\n",
       "      <td>120.000000</td>\n",
       "      <td>976.000000</td>\n",
       "      <td>516.000000</td>\n",
       "      <td>956.000000</td>\n",
       "      <td>999.000000</td>\n",
       "      <td>999.000000</td>\n",
       "      <td>999.000000</td>\n",
       "      <td>34.334300</td>\n",
       "      <td>0.000000</td>\n",
       "    </tr>\n",
       "  </tbody>\n",
       "</table>\n",
       "</div>"
      ],
      "text/plain": [
       "        case_number  time_occurred           area  reporting_distict  \\\n",
       "count  8.839870e+05  883987.000000  883987.000000      883987.000000   \n",
       "mean   2.173618e+08    1336.560971      10.703108        1116.747620   \n",
       "std    1.139578e+07     653.232813       6.100755         610.076564   \n",
       "min    8.170000e+02       1.000000       1.000000         101.000000   \n",
       "25%    2.103145e+08     900.000000       6.000000         615.000000   \n",
       "50%    2.203222e+08    1415.000000      11.000000        1141.000000   \n",
       "75%    2.302216e+08    1900.000000      16.000000        1615.000000   \n",
       "max    2.499046e+08    2359.000000      21.000000        2199.000000   \n",
       "\n",
       "       part_1_2_crimes     crime_code     victim_age   premise_code  \\\n",
       "count    883987.000000  883987.000000  883987.000000  883977.000000   \n",
       "mean          1.411516     500.758133      29.660630     306.299510   \n",
       "std           0.492109     207.629796      21.825831     217.174128   \n",
       "min           1.000000     110.000000      -3.000000     101.000000   \n",
       "25%           1.000000     331.000000       0.000000     101.000000   \n",
       "50%           1.000000     442.000000      31.000000     203.000000   \n",
       "75%           2.000000     626.000000      45.000000     501.000000   \n",
       "max           2.000000     956.000000     120.000000     976.000000   \n",
       "\n",
       "       weapon_used_code       Crm Cd 1      Crm Cd 2     Crm Cd 3    Crm Cd 4  \\\n",
       "count     306604.000000  883976.000000  64497.000000  2176.000000   62.000000   \n",
       "mean         363.322520     500.499365    957.820379   983.770221  990.983871   \n",
       "std          123.705678     207.419239    110.885829    52.538656   27.477259   \n",
       "min          101.000000     110.000000    210.000000   310.000000  821.000000   \n",
       "25%          310.000000     331.000000    998.000000   998.000000  998.000000   \n",
       "50%          400.000000     442.000000    998.000000   998.000000  998.000000   \n",
       "75%          400.000000     626.000000    998.000000   998.000000  998.000000   \n",
       "max          516.000000     956.000000    999.000000   999.000000  999.000000   \n",
       "\n",
       "                 LAT            LON  \n",
       "count  883987.000000  883987.000000  \n",
       "mean       33.986470    -118.051153  \n",
       "std         1.725364       5.981531  \n",
       "min         0.000000    -118.667600  \n",
       "25%        34.014300    -118.429700  \n",
       "50%        34.058500    -118.321500  \n",
       "75%        34.163500    -118.273900  \n",
       "max        34.334300       0.000000  "
      ]
     },
     "execution_count": 10,
     "metadata": {},
     "output_type": "execute_result"
    }
   ],
   "source": [
    "# Summary statistics\n",
    "\n",
    "df.describe()"
   ]
  },
  {
   "cell_type": "markdown",
   "id": "e7638731",
   "metadata": {},
   "source": [
    "#### There are no unusual values except for the minus values in the category of age and the max. value of 120."
   ]
  },
  {
   "cell_type": "code",
   "execution_count": 11,
   "id": "493b6639",
   "metadata": {},
   "outputs": [
    {
     "data": {
      "text/plain": [
       "victim_age\n",
       "-3           2\n",
       "-2          14\n",
       "-1          67\n",
       " 0      221363\n",
       " 2         399\n",
       "         ...  \n",
       " 96         91\n",
       " 97         65\n",
       " 98         68\n",
       " 99        313\n",
       " 120         1\n",
       "Name: count, Length: 103, dtype: int64"
      ]
     },
     "execution_count": 11,
     "metadata": {},
     "output_type": "execute_result"
    }
   ],
   "source": [
    "df['victim_age'].value_counts().sort_index()"
   ]
  },
  {
   "cell_type": "markdown",
   "id": "46518b6a",
   "metadata": {},
   "source": [
    "#### These extreme values make up less than 100 rows and can thus be ignored."
   ]
  },
  {
   "cell_type": "code",
   "execution_count": 12,
   "id": "1e134089",
   "metadata": {},
   "outputs": [
    {
     "data": {
      "text/plain": [
       "case_number                    0\n",
       "date_reported                  0\n",
       "date_occurred                  0\n",
       "time_occurred                  0\n",
       "area                           0\n",
       "area_name                      0\n",
       "reporting_distict              0\n",
       "part_1_2_crimes                0\n",
       "crime_code                     0\n",
       "crime_code_description         0\n",
       "Mocodes                   123013\n",
       "victim_age                     0\n",
       "victim_sex                117060\n",
       "victim_descent            117068\n",
       "premise_code                  10\n",
       "premise_description          540\n",
       "weapon_used_code          577383\n",
       "weapon_description        577383\n",
       "Status                         0\n",
       "Status Desc                    0\n",
       "Crm Cd 1                      11\n",
       "Crm Cd 2                  819490\n",
       "Crm Cd 3                  881811\n",
       "Crm Cd 4                  883925\n",
       "location                       0\n",
       "Cross Street              744208\n",
       "LAT                            0\n",
       "LON                            0\n",
       "dtype: int64"
      ]
     },
     "execution_count": 12,
     "metadata": {},
     "output_type": "execute_result"
    }
   ],
   "source": [
    "# Finding missing values\n",
    "\n",
    "df.isnull().sum()"
   ]
  },
  {
   "cell_type": "markdown",
   "id": "e81e1ba4",
   "metadata": {},
   "source": [
    "#### The sex of about one eighth of the victims is unknown. Otherwise there are no significant missing values relevant for the analysis."
   ]
  },
  {
   "cell_type": "code",
   "execution_count": 13,
   "id": "b24d12f6",
   "metadata": {},
   "outputs": [],
   "source": [
    "# Finding duplicates\n",
    "\n",
    "df_dups = df[df.duplicated()]"
   ]
  },
  {
   "cell_type": "code",
   "execution_count": 14,
   "id": "97e01c78",
   "metadata": {},
   "outputs": [
    {
     "data": {
      "text/html": [
       "<div>\n",
       "<style scoped>\n",
       "    .dataframe tbody tr th:only-of-type {\n",
       "        vertical-align: middle;\n",
       "    }\n",
       "\n",
       "    .dataframe tbody tr th {\n",
       "        vertical-align: top;\n",
       "    }\n",
       "\n",
       "    .dataframe thead th {\n",
       "        text-align: right;\n",
       "    }\n",
       "</style>\n",
       "<table border=\"1\" class=\"dataframe\">\n",
       "  <thead>\n",
       "    <tr style=\"text-align: right;\">\n",
       "      <th></th>\n",
       "      <th>case_number</th>\n",
       "      <th>date_reported</th>\n",
       "      <th>date_occurred</th>\n",
       "      <th>time_occurred</th>\n",
       "      <th>area</th>\n",
       "      <th>area_name</th>\n",
       "      <th>reporting_distict</th>\n",
       "      <th>part_1_2_crimes</th>\n",
       "      <th>crime_code</th>\n",
       "      <th>crime_code_description</th>\n",
       "      <th>...</th>\n",
       "      <th>Status</th>\n",
       "      <th>Status Desc</th>\n",
       "      <th>Crm Cd 1</th>\n",
       "      <th>Crm Cd 2</th>\n",
       "      <th>Crm Cd 3</th>\n",
       "      <th>Crm Cd 4</th>\n",
       "      <th>location</th>\n",
       "      <th>Cross Street</th>\n",
       "      <th>LAT</th>\n",
       "      <th>LON</th>\n",
       "    </tr>\n",
       "  </thead>\n",
       "  <tbody>\n",
       "  </tbody>\n",
       "</table>\n",
       "<p>0 rows × 28 columns</p>\n",
       "</div>"
      ],
      "text/plain": [
       "Empty DataFrame\n",
       "Columns: [case_number, date_reported, date_occurred, time_occurred, area, area_name, reporting_distict, part_1_2_crimes, crime_code, crime_code_description, Mocodes, victim_age, victim_sex, victim_descent, premise_code, premise_description, weapon_used_code, weapon_description, Status, Status Desc, Crm Cd 1, Crm Cd 2, Crm Cd 3, Crm Cd 4, location, Cross Street, LAT, LON]\n",
       "Index: []\n",
       "\n",
       "[0 rows x 28 columns]"
      ]
     },
     "execution_count": 14,
     "metadata": {},
     "output_type": "execute_result"
    }
   ],
   "source": [
    "df_dups"
   ]
  },
  {
   "cell_type": "markdown",
   "id": "83208673",
   "metadata": {},
   "source": [
    "#### There are no duplicates."
   ]
  },
  {
   "cell_type": "markdown",
   "id": "d469e6f4",
   "metadata": {},
   "source": [
    "# 3. Export data"
   ]
  },
  {
   "cell_type": "code",
   "execution_count": 15,
   "id": "d6c2d2ac",
   "metadata": {
    "scrolled": true
   },
   "outputs": [
    {
     "name": "stderr",
     "output_type": "stream",
     "text": [
      "C:\\Users\\Yan Peng\\AppData\\Local\\Temp\\ipykernel_2224\\1662919639.py:3: FutureWarning: A value is trying to be set on a copy of a DataFrame or Series through chained assignment using an inplace method.\n",
      "The behavior will change in pandas 3.0. This inplace method will never work because the intermediate object on which we are setting values always behaves as a copy.\n",
      "\n",
      "For example, when doing 'df[col].method(value, inplace=True)', try using 'df.method({col: value}, inplace=True)' or df[col] = df[col].method(value) instead, to perform the operation inplace on the original object.\n",
      "\n",
      "\n",
      "  df['area_name'].replace('N Hollywood', 'North Hollywood', inplace=True)\n",
      "C:\\Users\\Yan Peng\\AppData\\Local\\Temp\\ipykernel_2224\\1662919639.py:4: FutureWarning: A value is trying to be set on a copy of a DataFrame or Series through chained assignment using an inplace method.\n",
      "The behavior will change in pandas 3.0. This inplace method will never work because the intermediate object on which we are setting values always behaves as a copy.\n",
      "\n",
      "For example, when doing 'df[col].method(value, inplace=True)', try using 'df.method({col: value}, inplace=True)' or df[col] = df[col].method(value) instead, to perform the operation inplace on the original object.\n",
      "\n",
      "\n",
      "  df['area_name'].replace('West LA', 'West Los Angeles', inplace=True)\n"
     ]
    }
   ],
   "source": [
    "# Write out abbreviations and set all letters in uppercase to align with the names in the geojson file\n",
    "\n",
    "df['area_name'].replace('N Hollywood', 'North Hollywood', inplace=True)\n",
    "df['area_name'].replace('West LA', 'West Los Angeles', inplace=True)\n",
    "df['area_name'] = df['area_name'].str.upper()"
   ]
  },
  {
   "cell_type": "code",
   "execution_count": 16,
   "id": "4867e8e7",
   "metadata": {},
   "outputs": [
    {
     "data": {
      "text/plain": [
       "0            WILSHIRE\n",
       "1             CENTRAL\n",
       "2           SOUTHWEST\n",
       "3            VAN NUYS\n",
       "4           HOLLYWOOD\n",
       "             ...     \n",
       "883982    77TH STREET\n",
       "883983      HOLLYWOOD\n",
       "883984        CENTRAL\n",
       "883985       VAN NUYS\n",
       "883986      SOUTHWEST\n",
       "Name: area_name, Length: 883987, dtype: object"
      ]
     },
     "execution_count": 16,
     "metadata": {},
     "output_type": "execute_result"
    }
   ],
   "source": [
    "df['area_name']"
   ]
  },
  {
   "cell_type": "code",
   "execution_count": 18,
   "id": "46ec61e9",
   "metadata": {},
   "outputs": [
    {
     "data": {
      "text/html": [
       "<div>\n",
       "<style scoped>\n",
       "    .dataframe tbody tr th:only-of-type {\n",
       "        vertical-align: middle;\n",
       "    }\n",
       "\n",
       "    .dataframe tbody tr th {\n",
       "        vertical-align: top;\n",
       "    }\n",
       "\n",
       "    .dataframe thead th {\n",
       "        text-align: right;\n",
       "    }\n",
       "</style>\n",
       "<table border=\"1\" class=\"dataframe\">\n",
       "  <thead>\n",
       "    <tr style=\"text-align: right;\">\n",
       "      <th></th>\n",
       "      <th>case_number</th>\n",
       "      <th>date_reported</th>\n",
       "      <th>date_occurred</th>\n",
       "      <th>time_occurred</th>\n",
       "      <th>area</th>\n",
       "      <th>area_name</th>\n",
       "      <th>reporting_distict</th>\n",
       "      <th>part_1_2_crimes</th>\n",
       "      <th>crime_code</th>\n",
       "      <th>crime_code_description</th>\n",
       "      <th>...</th>\n",
       "      <th>Status</th>\n",
       "      <th>Status Desc</th>\n",
       "      <th>Crm Cd 1</th>\n",
       "      <th>Crm Cd 2</th>\n",
       "      <th>Crm Cd 3</th>\n",
       "      <th>Crm Cd 4</th>\n",
       "      <th>location</th>\n",
       "      <th>Cross Street</th>\n",
       "      <th>LAT</th>\n",
       "      <th>LON</th>\n",
       "    </tr>\n",
       "  </thead>\n",
       "  <tbody>\n",
       "    <tr>\n",
       "      <th>0</th>\n",
       "      <td>190326475</td>\n",
       "      <td>03/01/2020 12:00:00 AM</td>\n",
       "      <td>03/01/2020 12:00:00 AM</td>\n",
       "      <td>2130</td>\n",
       "      <td>7</td>\n",
       "      <td>WILSHIRE</td>\n",
       "      <td>784</td>\n",
       "      <td>1</td>\n",
       "      <td>510</td>\n",
       "      <td>VEHICLE - STOLEN</td>\n",
       "      <td>...</td>\n",
       "      <td>AA</td>\n",
       "      <td>Adult Arrest</td>\n",
       "      <td>510.0</td>\n",
       "      <td>998.0</td>\n",
       "      <td>NaN</td>\n",
       "      <td>NaN</td>\n",
       "      <td>1900 S  LONGWOOD                     AV</td>\n",
       "      <td>NaN</td>\n",
       "      <td>34.0375</td>\n",
       "      <td>-118.3506</td>\n",
       "    </tr>\n",
       "    <tr>\n",
       "      <th>1</th>\n",
       "      <td>200106753</td>\n",
       "      <td>02/09/2020 12:00:00 AM</td>\n",
       "      <td>02/08/2020 12:00:00 AM</td>\n",
       "      <td>1800</td>\n",
       "      <td>1</td>\n",
       "      <td>CENTRAL</td>\n",
       "      <td>182</td>\n",
       "      <td>1</td>\n",
       "      <td>330</td>\n",
       "      <td>BURGLARY FROM VEHICLE</td>\n",
       "      <td>...</td>\n",
       "      <td>IC</td>\n",
       "      <td>Invest Cont</td>\n",
       "      <td>330.0</td>\n",
       "      <td>998.0</td>\n",
       "      <td>NaN</td>\n",
       "      <td>NaN</td>\n",
       "      <td>1000 S  FLOWER                       ST</td>\n",
       "      <td>NaN</td>\n",
       "      <td>34.0444</td>\n",
       "      <td>-118.2628</td>\n",
       "    </tr>\n",
       "    <tr>\n",
       "      <th>2</th>\n",
       "      <td>200320258</td>\n",
       "      <td>11/11/2020 12:00:00 AM</td>\n",
       "      <td>11/04/2020 12:00:00 AM</td>\n",
       "      <td>1700</td>\n",
       "      <td>3</td>\n",
       "      <td>SOUTHWEST</td>\n",
       "      <td>356</td>\n",
       "      <td>1</td>\n",
       "      <td>480</td>\n",
       "      <td>BIKE - STOLEN</td>\n",
       "      <td>...</td>\n",
       "      <td>IC</td>\n",
       "      <td>Invest Cont</td>\n",
       "      <td>480.0</td>\n",
       "      <td>NaN</td>\n",
       "      <td>NaN</td>\n",
       "      <td>NaN</td>\n",
       "      <td>1400 W  37TH                         ST</td>\n",
       "      <td>NaN</td>\n",
       "      <td>34.0210</td>\n",
       "      <td>-118.3002</td>\n",
       "    </tr>\n",
       "    <tr>\n",
       "      <th>3</th>\n",
       "      <td>200907217</td>\n",
       "      <td>05/10/2023 12:00:00 AM</td>\n",
       "      <td>03/10/2020 12:00:00 AM</td>\n",
       "      <td>2037</td>\n",
       "      <td>9</td>\n",
       "      <td>VAN NUYS</td>\n",
       "      <td>964</td>\n",
       "      <td>1</td>\n",
       "      <td>343</td>\n",
       "      <td>SHOPLIFTING-GRAND THEFT ($950.01 &amp; OVER)</td>\n",
       "      <td>...</td>\n",
       "      <td>IC</td>\n",
       "      <td>Invest Cont</td>\n",
       "      <td>343.0</td>\n",
       "      <td>NaN</td>\n",
       "      <td>NaN</td>\n",
       "      <td>NaN</td>\n",
       "      <td>14000    RIVERSIDE                    DR</td>\n",
       "      <td>NaN</td>\n",
       "      <td>34.1576</td>\n",
       "      <td>-118.4387</td>\n",
       "    </tr>\n",
       "    <tr>\n",
       "      <th>4</th>\n",
       "      <td>220614831</td>\n",
       "      <td>08/18/2022 12:00:00 AM</td>\n",
       "      <td>08/17/2020 12:00:00 AM</td>\n",
       "      <td>1200</td>\n",
       "      <td>6</td>\n",
       "      <td>HOLLYWOOD</td>\n",
       "      <td>666</td>\n",
       "      <td>2</td>\n",
       "      <td>354</td>\n",
       "      <td>THEFT OF IDENTITY</td>\n",
       "      <td>...</td>\n",
       "      <td>IC</td>\n",
       "      <td>Invest Cont</td>\n",
       "      <td>354.0</td>\n",
       "      <td>NaN</td>\n",
       "      <td>NaN</td>\n",
       "      <td>NaN</td>\n",
       "      <td>1900    TRANSIENT</td>\n",
       "      <td>NaN</td>\n",
       "      <td>34.0944</td>\n",
       "      <td>-118.3277</td>\n",
       "    </tr>\n",
       "  </tbody>\n",
       "</table>\n",
       "<p>5 rows × 28 columns</p>\n",
       "</div>"
      ],
      "text/plain": [
       "   case_number           date_reported           date_occurred  time_occurred  \\\n",
       "0    190326475  03/01/2020 12:00:00 AM  03/01/2020 12:00:00 AM           2130   \n",
       "1    200106753  02/09/2020 12:00:00 AM  02/08/2020 12:00:00 AM           1800   \n",
       "2    200320258  11/11/2020 12:00:00 AM  11/04/2020 12:00:00 AM           1700   \n",
       "3    200907217  05/10/2023 12:00:00 AM  03/10/2020 12:00:00 AM           2037   \n",
       "4    220614831  08/18/2022 12:00:00 AM  08/17/2020 12:00:00 AM           1200   \n",
       "\n",
       "   area  area_name  reporting_distict  part_1_2_crimes  crime_code  \\\n",
       "0     7   WILSHIRE                784                1         510   \n",
       "1     1    CENTRAL                182                1         330   \n",
       "2     3  SOUTHWEST                356                1         480   \n",
       "3     9   VAN NUYS                964                1         343   \n",
       "4     6  HOLLYWOOD                666                2         354   \n",
       "\n",
       "                     crime_code_description  ... Status   Status Desc  \\\n",
       "0                          VEHICLE - STOLEN  ...     AA  Adult Arrest   \n",
       "1                     BURGLARY FROM VEHICLE  ...     IC   Invest Cont   \n",
       "2                             BIKE - STOLEN  ...     IC   Invest Cont   \n",
       "3  SHOPLIFTING-GRAND THEFT ($950.01 & OVER)  ...     IC   Invest Cont   \n",
       "4                         THEFT OF IDENTITY  ...     IC   Invest Cont   \n",
       "\n",
       "  Crm Cd 1 Crm Cd 2  Crm Cd 3 Crm Cd 4  \\\n",
       "0    510.0    998.0       NaN      NaN   \n",
       "1    330.0    998.0       NaN      NaN   \n",
       "2    480.0      NaN       NaN      NaN   \n",
       "3    343.0      NaN       NaN      NaN   \n",
       "4    354.0      NaN       NaN      NaN   \n",
       "\n",
       "                                   location Cross Street      LAT       LON  \n",
       "0   1900 S  LONGWOOD                     AV          NaN  34.0375 -118.3506  \n",
       "1   1000 S  FLOWER                       ST          NaN  34.0444 -118.2628  \n",
       "2   1400 W  37TH                         ST          NaN  34.0210 -118.3002  \n",
       "3  14000    RIVERSIDE                    DR          NaN  34.1576 -118.4387  \n",
       "4                         1900    TRANSIENT          NaN  34.0944 -118.3277  \n",
       "\n",
       "[5 rows x 28 columns]"
      ]
     },
     "execution_count": 18,
     "metadata": {},
     "output_type": "execute_result"
    }
   ],
   "source": [
    "df.head()"
   ]
  },
  {
   "cell_type": "code",
   "execution_count": 17,
   "id": "412cd3d0",
   "metadata": {},
   "outputs": [],
   "source": [
    "df.to_csv(os.path.join(path, '02 Data','Prepared Data', 'crime_data_checked.csv'))"
   ]
  }
 ],
 "metadata": {
  "kernelspec": {
   "display_name": "Python 3 (ipykernel)",
   "language": "python",
   "name": "python3"
  },
  "language_info": {
   "codemirror_mode": {
    "name": "ipython",
    "version": 3
   },
   "file_extension": ".py",
   "mimetype": "text/x-python",
   "name": "python",
   "nbconvert_exporter": "python",
   "pygments_lexer": "ipython3",
   "version": "3.11.5"
  }
 },
 "nbformat": 4,
 "nbformat_minor": 5
}
